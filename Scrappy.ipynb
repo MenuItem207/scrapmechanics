{
  "nbformat": 4,
  "nbformat_minor": 0,
  "metadata": {
    "colab": {
      "provenance": [],
      "authorship_tag": "ABX9TyNxpnaqoaCZooiUy2KBp3iN",
      "include_colab_link": true
    },
    "kernelspec": {
      "name": "python3",
      "display_name": "Python 3"
    },
    "language_info": {
      "name": "python"
    }
  },
  "cells": [
    {
      "cell_type": "markdown",
      "metadata": {
        "id": "view-in-github",
        "colab_type": "text"
      },
      "source": [
        "<a href=\"https://colab.research.google.com/github/MenuItem207/scrapmechanics/blob/main/Scrappy.ipynb\" target=\"_parent\"><img src=\"https://colab.research.google.com/assets/colab-badge.svg\" alt=\"Open In Colab\"/></a>"
      ]
    },
    {
      "cell_type": "code",
      "execution_count": null,
      "metadata": {
        "id": "ugRnEYP7PJxf"
      },
      "outputs": [],
      "source": [
        "s=requests.session()\n",
        "#Define API url\n",
        "url_search='https://sg-en-web-api.ezbuy.sg/api/EzCategory/ListProductsByCondition'\n",
        "#Define header for the post request\n",
        "headers={'user-agent':'Mozilla/5.0 (Macintosh; Intel Mac OS X 10_11_6) AppleWebKit/537.36 (KHTML, like Gecko) Chrome/83.0.4103.116 Safari/537.36'}\n",
        "#Define payload for the request form\n",
        "data={\n",
        "    \"searchCondition\": \n",
        "        {\"categoryId\":0,\"freeShippingType\":0,\"filter: [],\"keyWords\":\"mask\"},\n",
        "        \"limit\":100,\n",
        "        \"offset\":0,\n",
        "        \"language\":\"en\",\n",
        "        \"dataType\":\"new\"\n",
        "    }\n",
        "req=s.post(url_search,headers=headers,json=data)"
      ]
    }
  ]
}